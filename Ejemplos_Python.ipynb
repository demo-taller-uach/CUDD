{
  "nbformat": 4,
  "nbformat_minor": 0,
  "metadata": {
    "colab": {
      "provenance": [],
      "authorship_tag": "ABX9TyPja/dJPNDS18usK7gLjIeP",
      "include_colab_link": true
    },
    "kernelspec": {
      "name": "python3",
      "display_name": "Python 3"
    },
    "language_info": {
      "name": "python"
    }
  },
  "cells": [
    {
      "cell_type": "markdown",
      "metadata": {
        "id": "view-in-github",
        "colab_type": "text"
      },
      "source": [
        "<a href=\"https://colab.research.google.com/github/demo-taller-uach/CUDD/blob/main/Ejemplos_Python.ipynb\" target=\"_parent\"><img src=\"https://colab.research.google.com/assets/colab-badge.svg\" alt=\"Open In Colab\"/></a>"
      ]
    },
    {
      "cell_type": "code",
      "execution_count": null,
      "metadata": {
        "id": "DHKY9Xzo35um"
      },
      "outputs": [],
      "source": [
        "# Variable de texto\n",
        "mensaje = \"Hola, mundo\"\n",
        "print(mensaje)"
      ]
    },
    {
      "cell_type": "code",
      "source": [
        "# Variable numérica\n",
        "numero = 42\n",
        "print(numero)"
      ],
      "metadata": {
        "id": "aXOMBLJB7yoF"
      },
      "execution_count": null,
      "outputs": []
    },
    {
      "cell_type": "code",
      "source": [
        "# Concatenar texto\n",
        "nombre = \"María\"\n",
        "saludo = \"Hola, \" + nombre\n",
        "print(saludo)"
      ],
      "metadata": {
        "id": "2MrrCB7Z71PJ"
      },
      "execution_count": null,
      "outputs": []
    },
    {
      "cell_type": "code",
      "source": [
        "nombre = \"Lucía\"\n",
        "edad = 35\n",
        "\n",
        "mensaje = f\"Hola, {nombre}. Tienes {edad} años.\"\n",
        "print(mensaje)\n"
      ],
      "metadata": {
        "id": "vWRNbCof5PiE"
      },
      "execution_count": null,
      "outputs": []
    },
    {
      "cell_type": "code",
      "source": [
        "# Crear una lista de películas clásicas de los 80's a los 2000's\n",
        "peliculas = [\n",
        "    \"Volver al Futuro\",\n",
        "    \"Los Cazafantasmas\",\n",
        "    \"El Club de los Cinco\",\n",
        "    \"Jurassic Park\",\n",
        "    \"Forrest Gump\",\n",
        "    \"Titanic\",\n",
        "    \"Matrix\",\n",
        "    \"El Señor de los Anillos\",\n",
        "    \"Gladiador\"\n",
        "]\n",
        "\n",
        "# Mostrar la primera película de la lista\n",
        "print(peliculas[0])  # Volver al Futuro\n",
        "\n",
        "# Mostrar la última película de la lista\n",
        "print(peliculas[-1])  # El Diario de una Pasión\n",
        "\n",
        "# Mostrar toda la lista\n",
        "print(peliculas)"
      ],
      "metadata": {
        "id": "NWRRfVzE4GM-"
      },
      "execution_count": null,
      "outputs": []
    },
    {
      "cell_type": "code",
      "source": [
        "# Diccionario con películas y su año de estreno\n",
        "peliculas = {\n",
        "    \"Volver al Futuro\": 1985,\n",
        "    \"Los Cazafantasmas\": 1984,\n",
        "    \"Jurassic Park\": 1993,\n",
        "    \"Forrest Gump\": 1994,\n",
        "    \"Titanic\": 1997,\n",
        "    \"Matrix\": 1999,\n",
        "    \"Gladiador\": 2000,\n",
        "    \"El Señor de los Anillos: La Comunidad del Anillo\": 2001\n",
        "}\n",
        "\n",
        "# Mostrar el año de una película específica\n",
        "print(f\"Volver al Futuro se estrenó en {peliculas['Volver al Futuro']}\")\n",
        "print(f\"Titanic se estrenó en {peliculas['Titanic']}\")\n",
        "\n"
      ],
      "metadata": {
        "id": "iVEzi3L94UxC"
      },
      "execution_count": null,
      "outputs": []
    },
    {
      "cell_type": "code",
      "source": [
        "# Diccionario de estudiantes y sus calificaciones\n",
        "calificaciones = {\n",
        "    \"Ana\": 9.2,\n",
        "    \"Luis\": 8.5,\n",
        "    \"María\": 10.0,\n",
        "    \"Carlos\": 7.8,\n",
        "    \"Sofía\": 9.0,\n",
        "    \"Jorge\": 6.9,\n",
        "    \"Lucía\": 8.7,\n",
        "    \"Diego\": 7.5,\n",
        "    \"Paola\": 9.5,\n",
        "    \"Héctor\": 8.0\n",
        "}\n",
        "# da un mensaje de uno de los casos, Diego:\n",
        "nombre=\"Ana\"\n",
        "print(f\"Hola, {nombre}. Tu calificación es: {calificaciones[nombre]}\")"
      ],
      "metadata": {
        "id": "TGqL7t5c50LJ"
      },
      "execution_count": null,
      "outputs": []
    },
    {
      "cell_type": "code",
      "source": [
        "nombre = input(\"¿Cuál es tu nombre? \")\n",
        "\n",
        "if nombre == \"Ana\":\n",
        "    print(\"¡Hola Ana, bienvenida!\")\n",
        "else:\n",
        "    print(\"Mucho gusto, \" + nombre)\n"
      ],
      "metadata": {
        "id": "Na2BWLGZ4WEY"
      },
      "execution_count": null,
      "outputs": []
    },
    {
      "cell_type": "code",
      "source": [
        "valor= \"Algo\"\n",
        "if valor:\n",
        "    print(\"El valor es verdadero\")\n",
        "else:\n",
        "    print(\"El valor es falso\")"
      ],
      "metadata": {
        "id": "KVQ9NqLt2Z3l"
      },
      "execution_count": null,
      "outputs": []
    },
    {
      "cell_type": "code",
      "source": [
        "mensajes = [\"Buen trabajo\", \"No te rindas\", \"Tú puedes\"]\n",
        "\n",
        "for mensaje in mensajes:\n",
        "    print(mensaje)\n"
      ],
      "metadata": {
        "id": "ejgGF6JW4acq"
      },
      "execution_count": null,
      "outputs": []
    },
    {
      "cell_type": "code",
      "source": [
        "import random\n",
        "\n",
        "frases_chespirito = [\n",
        "    \"¡Fue sin querer queriendo! 😅 – El Chavo\",\n",
        "    \"La única vez que me equivoqué... fue cuando pensé que estaba equivocado. 😎 – Prof. Jirafales\",\n",
        "    \"¡No contaban con mi astucia! 💡 – El Chapulín Colorado\",\n",
        "    \"¡Síganme los buenos! 🚶 – El Chapulín Colorado\",\n",
        "    \"Lo sospeché desde un principio... 🤔 – El Chapulín Colorado\",\n",
        "    \"¡Tenía que ser el Chavo del 8! 😤 – Don Ramón\",\n",
        "    \"Es que no me tienen paciencia... 😭 – El Chavo\",\n",
        "    \"¿Y ahora quién podrá defenderme? 😱 – Cualquier víctima\",\n",
        "    \"Ta-ta-ta-ta-ta... 😳 – Profesor Jirafales\",\n",
        "    \"¡Qué milagro que viene por aquí! 🫣 – Profesor Jirafales\",\n",
        "    \"¡Vámonos tesoro! 👜 – Doña Florinda\"\n",
        "]\n",
        "\n",
        "mensaje = random.choice(frases_chespirito)\n",
        "print(\"🥠 Galleta de la fortuna dice:\")\n",
        "print(mensaje)\n",
        "\n"
      ],
      "metadata": {
        "id": "Bk9GxbVg4hLd"
      },
      "execution_count": null,
      "outputs": []
    },
    {
      "cell_type": "code",
      "source": [
        "ubicaciones = {\n",
        "    \"Campus Chihuahua\": [\n",
        "        \"Facultad de Contaduría y Administración\",\n",
        "        \"Facultad de Ingeniería\",\n",
        "        \"Facultad de Ciencias Químicas\",\n",
        "        \"Facultad de Medicina y Ciencias Biomédicas\",\n",
        "        \"Facultad de Enfermería y Nutriología\",\n",
        "        \"Facultad de Ciencias de la Cultura Física\",\n",
        "        \"Facultad de Artes\",\n",
        "        \"Facultad de Filosofía y Letras\",\n",
        "        \"Facultad de Odontología\",\n",
        "        \"Facultad de Zootecnia y Ecología\"\n",
        "    ],\n",
        "    \"Ciudad Juárez\": [\"Facultad de Ciencias Políticas y Sociales\"],\n",
        "    \"Cuauhtémoc\": [\"Facultad de Ciencias Agrotecnológicas\"],\n",
        "    \"Delicias\": [\n",
        "        \"Facultad de Contaduría y Administración\",\n",
        "        \"Facultad de Ciencias Agrícolas y Forestales\"\n",
        "    ],\n",
        "    \"Hidalgo del Parral\": [\n",
        "        \"Facultad de Contaduría y Administración\",\n",
        "        \"Facultad de Derecho\",\n",
        "        \"Facultad de Economía Internacional\",\n",
        "        \"Facultad de Enfermería y Nutriología\",\n",
        "        \"Facultad de Ingeniería\",\n",
        "        \"Facultad de Medicina y Ciencias Biomédicas\"\n",
        "    ]\n",
        "}\n",
        "\n",
        "# Mostrar las facultades por ubicación\n",
        "for ciudad, facultades in ubicaciones.items():\n",
        "    print(f\"\\n📍 UACH {ciudad}:\")\n",
        "    for facultad in facultades:\n",
        "        print(f\"   ✅ {facultad}\")\n"
      ],
      "metadata": {
        "id": "hm4UqdnA4uoA"
      },
      "execution_count": null,
      "outputs": []
    },
    {
      "cell_type": "code",
      "source": [
        "# Solicitar el nombre de la facultad\n",
        "buscada = input(\"Escribe el nombre de la facultad: \")\n",
        "\n",
        "\n",
        "for ciudad, facultades in ubicaciones.items():\n",
        "    if buscada in facultades:\n",
        "        print(f\"📍 La {buscada} se encuentra en: {ciudad}\")"
      ],
      "metadata": {
        "id": "ZnXtm5KZ-5O1"
      },
      "execution_count": null,
      "outputs": []
    }
  ]
}